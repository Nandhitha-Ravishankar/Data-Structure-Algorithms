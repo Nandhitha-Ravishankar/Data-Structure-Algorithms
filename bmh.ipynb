{
 "cells": [
  {
   "cell_type": "code",
   "execution_count": 4,
   "id": "07cbc8c6",
   "metadata": {},
   "outputs": [
    {
     "ename": "ModuleNotFoundError",
     "evalue": "No module named 'Comparer'",
     "output_type": "error",
     "traceback": [
      "\u001b[1;31m---------------------------------------------------------------------------\u001b[0m",
      "\u001b[1;31mModuleNotFoundError\u001b[0m                       Traceback (most recent call last)",
      "\u001b[1;32m<ipython-input-4-6a97f6f59684>\u001b[0m in \u001b[0;36m<module>\u001b[1;34m\u001b[0m\n\u001b[0;32m      3\u001b[0m \u001b[1;32mfrom\u001b[0m \u001b[0mcollections\u001b[0m \u001b[1;32mimport\u001b[0m \u001b[0mdefaultdict\u001b[0m\u001b[1;33m\u001b[0m\u001b[1;33m\u001b[0m\u001b[0m\n\u001b[0;32m      4\u001b[0m \u001b[1;32mfrom\u001b[0m \u001b[0msys\u001b[0m \u001b[1;32mimport\u001b[0m \u001b[0margv\u001b[0m\u001b[1;33m,\u001b[0m \u001b[0mexit\u001b[0m\u001b[1;33m\u001b[0m\u001b[1;33m\u001b[0m\u001b[0m\n\u001b[1;32m----> 5\u001b[1;33m \u001b[1;32mfrom\u001b[0m \u001b[0mComparer\u001b[0m \u001b[1;32mimport\u001b[0m \u001b[0mComparer\u001b[0m\u001b[1;33m\u001b[0m\u001b[1;33m\u001b[0m\u001b[0m\n\u001b[0m\u001b[0;32m      6\u001b[0m \u001b[1;33m\u001b[0m\u001b[0m\n\u001b[0;32m      7\u001b[0m \u001b[1;33m\u001b[0m\u001b[0m\n",
      "\u001b[1;31mModuleNotFoundError\u001b[0m: No module named 'Comparer'"
     ]
    }
   ],
   "source": [
    "# Boyer-Moore-Horspool\n",
    "\n",
    "from collections import defaultdict\n",
    "from sys import argv, exit\n",
    "from Comparer import Comparer\n",
    "\n",
    "\n",
    "def precalc(pattern):\n",
    "    \"\"\"\n",
    "    Create the precalculation table: a dictionary of the number of characters\n",
    "    after the last occurrence of a given character. This provides the number of\n",
    "    characters to shift by in the case of a mismatch. Defaults to the length of\n",
    "    the string.\n",
    "    \"\"\"\n",
    "    table = defaultdict(lambda: len(pattern))\n",
    "    for i in range(len(pattern) - 1):\n",
    "        table[pattern[i]] = len(pattern) - i - 1\n",
    "    return table\n",
    "\n",
    "\n",
    "def run_bmh(table, text, pattern, compare):\n",
    "    \"\"\"\n",
    "    Using the precalculated table, yield every match of the pattern in the\n",
    "    text, making comparisons with the provided compare function.\n",
    "    \"\"\"\n",
    "    \n",
    "    # Currently attempted offset of the pattern in the text\n",
    "    skip = 0\n",
    "\n",
    "    # Keep going until the pattern overflows the text\n",
    "    while skip + len(pattern) <= len(text):\n",
    "\n",
    "        # Start matching from the end of the string\n",
    "        i = len(pattern) - 1\n",
    "\n",
    "        # Match each element in the pattern, from the end to the beginning\n",
    "        while i >= 0 and compare(text, skip+i, pattern, i):\n",
    "            i -= 1\n",
    "      \n",
    "        # If the start of the string has been reached (and so every comparison\n",
    "        # was successful), then yield the position\n",
    "        if i < 0:\n",
    "            yield skip\n",
    "        \n",
    "        # Shift by the precalculated offset given by the character in the text\n",
    "        # at the far right of the pattern, so that it lines up with an equal\n",
    "        # character in the pattern, if posssible. Otherwise the pattern is\n",
    "        # moved to after this position.\n",
    "        skip += table[text[skip + len(pattern) - 1]]\n",
    "\n",
    "\n",
    "if __name__ == \"__main__\":\n",
    "    try:\n",
    "        pattern = argv[1]\n",
    "        text = argv[2]   \n",
    "    except IndexError:\n",
    "        print(\"usage: python3 bmh.py PATTERN TEXT\")\n",
    "        exit()\n",
    "\n",
    "    print(f'Searching for \"{pattern}\" in \"{text}\".')\n",
    "    print()\n",
    "\n",
    "    compare = Comparer()\n",
    "\n",
    "    table = precalc(pattern)\n",
    "    print(f'Precomputed shift table: {dict(table)}')\n",
    "    print()\n",
    "\n",
    "    for match in run_bmh(table, text, pattern, compare):\n",
    "        print(f\"Match found at position {match}\")\n",
    "\n",
    "    print(f\"{compare.count} comparisons\")"
   ]
  },
  {
   "cell_type": "code",
   "execution_count": null,
   "id": "1daa601f",
   "metadata": {},
   "outputs": [],
   "source": []
  }
 ],
 "metadata": {
  "kernelspec": {
   "display_name": "Python 3",
   "language": "python",
   "name": "python3"
  },
  "language_info": {
   "codemirror_mode": {
    "name": "ipython",
    "version": 3
   },
   "file_extension": ".py",
   "mimetype": "text/x-python",
   "name": "python",
   "nbconvert_exporter": "python",
   "pygments_lexer": "ipython3",
   "version": "3.8.8"
  }
 },
 "nbformat": 4,
 "nbformat_minor": 5
}

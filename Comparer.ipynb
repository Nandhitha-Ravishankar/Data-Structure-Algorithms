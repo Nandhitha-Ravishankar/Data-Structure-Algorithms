{
 "cells": [
  {
   "cell_type": "code",
   "execution_count": 3,
   "id": "348779e3",
   "metadata": {},
   "outputs": [],
   "source": [
    "# Comparer\n",
    "\n",
    "class Comparer:\n",
    "    \"\"\"\n",
    "    A class for comparing string characters, and keeping a track of the number\n",
    "    of comparisons. The instances act like functions, but with the attribute\n",
    "    .count to get the number of comparisons made, so the number of times the\n",
    "    function has been called.\n",
    "    \"\"\"\n",
    "    count = 0\n",
    "    \n",
    "    def __call__(self, text, i, pattern, j=0):\n",
    "        \"\"\"\n",
    "        Run a comparison, printing the strings lined up with a caret at the\n",
    "        relevant position, and increment the comparison counter.\n",
    "\n",
    "        :param text: The first string, typically the text being searched in.\n",
    "        :param i: The index of the character from the first string to compare.\n",
    "        :param pattern: The second string, typically the pattern to search for.\n",
    "        :param j: The index of the character from the second string to compare.\n",
    "                  Defaults to zero, so `pattern` can be a single character\n",
    "                  rather than a string.\n",
    "        :return: Boolean of whether the characters match.\n",
    "        \"\"\"\n",
    "        print(' '*(j-i) + text)\n",
    "        print(' '*(i-j) + pattern)\n",
    "        print(' '*(max(i,j)) + '^')\n",
    "        self.count += 1\n",
    "        return text[i] == pattern[j]"
   ]
  },
  {
   "cell_type": "code",
   "execution_count": null,
   "id": "31497cd8",
   "metadata": {},
   "outputs": [],
   "source": []
  },
  {
   "cell_type": "code",
   "execution_count": null,
   "id": "89dac4b5",
   "metadata": {},
   "outputs": [],
   "source": []
  }
 ],
 "metadata": {
  "kernelspec": {
   "display_name": "Python 3",
   "language": "python",
   "name": "python3"
  },
  "language_info": {
   "codemirror_mode": {
    "name": "ipython",
    "version": 3
   },
   "file_extension": ".py",
   "mimetype": "text/x-python",
   "name": "python",
   "nbconvert_exporter": "python",
   "pygments_lexer": "ipython3",
   "version": "3.8.8"
  }
 },
 "nbformat": 4,
 "nbformat_minor": 5
}
